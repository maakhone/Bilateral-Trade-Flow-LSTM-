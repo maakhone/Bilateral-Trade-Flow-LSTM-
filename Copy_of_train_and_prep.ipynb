{
  "nbformat": 4,
  "nbformat_minor": 0,
  "metadata": {
    "accelerator": "GPU",
    "colab": {
      "name": "Copy of train and prep.ipynb",
      "provenance": []
    },
    "kernelspec": {
      "display_name": "Python 3",
      "name": "python3"
    }
  },
  "cells": [
    {
      "cell_type": "code",
      "metadata": {
        "id": "CPNfkM3yJfnS"
      },
      "source": [
        "import pandas as pd\n",
        "import numpy as np\n",
        "import pandas as pd\n",
        "import numpy as np\n",
        "from matplotlib import pyplot as plt\n",
        "\n",
        "from pandas.plotting import register_matplotlib_converters\n",
        "register_matplotlib_converters()\n",
        "import matplotlib as mpl\n",
        "mpl.rcParams['agg.path.chunksize'] = 10000"
      ],
      "execution_count": null,
      "outputs": []
    },
    {
      "cell_type": "code",
      "metadata": {
        "colab": {
          "base_uri": "https://localhost:8080/"
        },
        "id": "uPYsgHKmJxCq",
        "outputId": "db6c7ec7-41ae-4bc0-be72-d39443ce5b92"
      },
      "source": [
        "%cd \"/content/drive/My Drive/maisam_project\""
      ],
      "execution_count": null,
      "outputs": [
        {
          "output_type": "stream",
          "text": [
            "/content/drive/My Drive/maisam_project\n"
          ],
          "name": "stdout"
        }
      ]
    },
    {
      "cell_type": "code",
      "metadata": {
        "id": "n8Wm9MZh-J3L"
      },
      "source": [
        "data=pd.read_csv('Copy of df_2.csv')"
      ],
      "execution_count": null,
      "outputs": []
    },
    {
      "cell_type": "code",
      "metadata": {
        "id": "FpcvIgab725G"
      },
      "source": [
        "data=data[['year', 'log GDP_o', 'log GDP_d','log Dist_coord' , 'log FLOW']]"
      ],
      "execution_count": null,
      "outputs": []
    },
    {
      "cell_type": "code",
      "metadata": {
        "id": "ntO2KVst8GV-"
      },
      "source": [
        "data1=data[:10000]"
      ],
      "execution_count": null,
      "outputs": []
    },
    {
      "cell_type": "code",
      "metadata": {
        "id": "0aNA2p8w8ir7"
      },
      "source": [
        "data1.to_csv('gravity_data.csv')"
      ],
      "execution_count": null,
      "outputs": []
    },
    {
      "cell_type": "code",
      "metadata": {
        "id": "0yeo8K8r8veJ"
      },
      "source": [
        "df=pd.read_csv('gravity_data.csv')"
      ],
      "execution_count": null,
      "outputs": []
    },
    {
      "cell_type": "code",
      "metadata": {
        "id": "Je2vLNEaqhKs"
      },
      "source": [
        "# del data['Date']"
      ],
      "execution_count": null,
      "outputs": []
    },
    {
      "cell_type": "code",
      "metadata": {
        "colab": {
          "base_uri": "https://localhost:8080/"
        },
        "id": "gEFkSTvjNdY-",
        "outputId": "80c5aaa3-3781-40b3-be98-b830c64c21d8"
      },
      "source": [
        "data.columns"
      ],
      "execution_count": null,
      "outputs": [
        {
          "output_type": "execute_result",
          "data": {
            "text/plain": [
              "Index(['year', 'log GDP_o', 'log GDP_d', 'log Dist_coord', 'log FLOW'], dtype='object')"
            ]
          },
          "metadata": {
            "tags": []
          },
          "execution_count": 81
        }
      ]
    },
    {
      "cell_type": "code",
      "metadata": {
        "colab": {
          "base_uri": "https://localhost:8080/",
          "height": 204
        },
        "id": "ubgQwQeFYN9X",
        "outputId": "4026a374-6efb-4ded-fa07-36dc12c25ddd"
      },
      "source": [
        "data.head()"
      ],
      "execution_count": null,
      "outputs": [
        {
          "output_type": "execute_result",
          "data": {
            "text/html": [
              "<div>\n",
              "<style scoped>\n",
              "    .dataframe tbody tr th:only-of-type {\n",
              "        vertical-align: middle;\n",
              "    }\n",
              "\n",
              "    .dataframe tbody tr th {\n",
              "        vertical-align: top;\n",
              "    }\n",
              "\n",
              "    .dataframe thead th {\n",
              "        text-align: right;\n",
              "    }\n",
              "</style>\n",
              "<table border=\"1\" class=\"dataframe\">\n",
              "  <thead>\n",
              "    <tr style=\"text-align: right;\">\n",
              "      <th></th>\n",
              "      <th>year</th>\n",
              "      <th>log GDP_o</th>\n",
              "      <th>log GDP_d</th>\n",
              "      <th>log Dist_coord</th>\n",
              "      <th>log FLOW</th>\n",
              "    </tr>\n",
              "  </thead>\n",
              "  <tbody>\n",
              "    <tr>\n",
              "      <th>0</th>\n",
              "      <td>1990</td>\n",
              "      <td>37.108755</td>\n",
              "      <td>29.110241</td>\n",
              "      <td>12.964419</td>\n",
              "      <td>27.417802</td>\n",
              "    </tr>\n",
              "    <tr>\n",
              "      <th>1</th>\n",
              "      <td>1991</td>\n",
              "      <td>37.108755</td>\n",
              "      <td>29.225325</td>\n",
              "      <td>12.964419</td>\n",
              "      <td>27.417802</td>\n",
              "    </tr>\n",
              "    <tr>\n",
              "      <th>2</th>\n",
              "      <td>1992</td>\n",
              "      <td>37.108755</td>\n",
              "      <td>29.360813</td>\n",
              "      <td>12.964419</td>\n",
              "      <td>27.417802</td>\n",
              "    </tr>\n",
              "    <tr>\n",
              "      <th>3</th>\n",
              "      <td>2010</td>\n",
              "      <td>37.108755</td>\n",
              "      <td>31.012164</td>\n",
              "      <td>12.964419</td>\n",
              "      <td>27.417802</td>\n",
              "    </tr>\n",
              "    <tr>\n",
              "      <th>4</th>\n",
              "      <td>2011</td>\n",
              "      <td>37.108755</td>\n",
              "      <td>30.994342</td>\n",
              "      <td>12.964419</td>\n",
              "      <td>27.417802</td>\n",
              "    </tr>\n",
              "  </tbody>\n",
              "</table>\n",
              "</div>"
            ],
            "text/plain": [
              "   year  log GDP_o  log GDP_d  log Dist_coord   log FLOW\n",
              "0  1990  37.108755  29.110241       12.964419  27.417802\n",
              "1  1991  37.108755  29.225325       12.964419  27.417802\n",
              "2  1992  37.108755  29.360813       12.964419  27.417802\n",
              "3  2010  37.108755  31.012164       12.964419  27.417802\n",
              "4  2011  37.108755  30.994342       12.964419  27.417802"
            ]
          },
          "metadata": {
            "tags": []
          },
          "execution_count": 36
        }
      ]
    },
    {
      "cell_type": "code",
      "metadata": {
        "id": "f38tZoZFP7bW"
      },
      "source": [
        "from sklearn.model_selection import train_test_split\n",
        "\n",
        "train, test = train_test_split(data, test_size=0.2, shuffle=False)"
      ],
      "execution_count": null,
      "outputs": []
    },
    {
      "cell_type": "code",
      "metadata": {
        "colab": {
          "base_uri": "https://localhost:8080/"
        },
        "id": "GcCKDs5vOsDf",
        "outputId": "3052b1a4-69d6-4f34-cc84-50900c50eed8"
      },
      "source": [
        "train.columns"
      ],
      "execution_count": null,
      "outputs": [
        {
          "output_type": "execute_result",
          "data": {
            "text/plain": [
              "Index(['year', 'log GDP_o', 'log GDP_d', 'log Dist_coord', 'log FLOW'], dtype='object')"
            ]
          },
          "metadata": {
            "tags": []
          },
          "execution_count": 72
        }
      ]
    },
    {
      "cell_type": "markdown",
      "metadata": {
        "id": "kn4IhbYQQfID"
      },
      "source": [
        "**Training**\n"
      ]
    },
    {
      "cell_type": "code",
      "metadata": {
        "id": "4NXQITFPQkYs"
      },
      "source": [
        "from sklearn.metrics import r2_score\n",
        "from sklearn.linear_model import LinearRegression\n",
        "from sklearn.metrics import mean_squared_error\n",
        "\n"
      ],
      "execution_count": null,
      "outputs": []
    },
    {
      "cell_type": "code",
      "metadata": {
        "colab": {
          "background_save": true
        },
        "id": "bxMYdB6fD6Z_"
      },
      "source": [
        "X_train=train[['year', 'log GDP_o', 'log GDP_d'\n",
        "       , 'log Dist_coord']]\n",
        "y_train=train['log FLOW']\n",
        "\n",
        "X_test=test[['year', 'log GDP_o', 'log GDP_d',\n",
        "       , 'log Dist_coord']]\n",
        "y_test=test['log FLOW']"
      ],
      "execution_count": null,
      "outputs": []
    },
    {
      "cell_type": "code",
      "metadata": {
        "id": "id6DhSwnTIAW"
      },
      "source": [
        "model1 = LinearRegression().fit(X_train, y_train)"
      ],
      "execution_count": null,
      "outputs": []
    },
    {
      "cell_type": "code",
      "metadata": {
        "id": "FcnoPfThTnuq"
      },
      "source": [
        "y_test_pred=model1.predict(X_test)"
      ],
      "execution_count": null,
      "outputs": []
    },
    {
      "cell_type": "code",
      "metadata": {
        "colab": {
          "base_uri": "https://localhost:8080/"
        },
        "id": "fh0MqsSGTq82",
        "outputId": "fb81859b-84b9-4203-f05a-4f28c5a1e248"
      },
      "source": [
        "print(r2_score(y_test, y_test_pred,multioutput='variance_weighted'))\n"
      ],
      "execution_count": null,
      "outputs": [
        {
          "output_type": "stream",
          "text": [
            "0.73672112\n"
          ],
          "name": "stdout"
        }
      ]
    },
    {
      "cell_type": "code",
      "metadata": {
        "colab": {
          "base_uri": "https://localhost:8080/"
        },
        "id": "KWw5-vp0XF-H",
        "outputId": "1ed0baf4-85ba-477d-87b8-9c5110adf9c9"
      },
      "source": [
        "mean_squared_error(y_test, y_test_pred)"
      ],
      "execution_count": null,
      "outputs": [
        {
          "output_type": "stream",
          "text": [
            "12.63729282\n"
          ],
          "name": "stdout"
        }
      ]
    },
    {
      "cell_type": "markdown",
      "metadata": {
        "id": "Ey8-nkIQqpS9"
      },
      "source": [
        "LSTM"
      ]
    },
    {
      "cell_type": "code",
      "metadata": {
        "id": "ND0hQh88qpx3"
      },
      "source": [
        "from keras.models import Sequential\n",
        "from keras.layers import Dense, Dropout, LSTM\n",
        "\n",
        "#for normalizing data\n",
        "from sklearn.preprocessing import MinMaxScaler\n",
        "scaler = MinMaxScaler(feature_range=(0, 1))\n"
      ],
      "execution_count": null,
      "outputs": []
    },
    {
      "cell_type": "code",
      "metadata": {
        "colab": {
          "base_uri": "https://localhost:8080/"
        },
        "id": "JOSlEoQkq2Ks",
        "outputId": "9ac02e1c-c507-4a7d-b8be-6e2b0d44662b"
      },
      "source": [
        "data.columns"
      ],
      "execution_count": null,
      "outputs": [
        {
          "output_type": "execute_result",
          "data": {
            "text/plain": [
              "Index(['year', 'log GDP_o', 'log GDP_d', 'log Dist_coord', 'log FLOW'], dtype='object')"
            ]
          },
          "metadata": {
            "tags": []
          },
          "execution_count": 38
        }
      ]
    },
    {
      "cell_type": "code",
      "metadata": {
        "colab": {
          "base_uri": "https://localhost:8080/",
          "height": 419
        },
        "id": "kC51IR3DsoDO",
        "outputId": "84e355ba-bfd5-4553-92d1-db79ccb0449d"
      },
      "source": [
        "data"
      ],
      "execution_count": null,
      "outputs": [
        {
          "output_type": "execute_result",
          "data": {
            "text/html": [
              "<div>\n",
              "<style scoped>\n",
              "    .dataframe tbody tr th:only-of-type {\n",
              "        vertical-align: middle;\n",
              "    }\n",
              "\n",
              "    .dataframe tbody tr th {\n",
              "        vertical-align: top;\n",
              "    }\n",
              "\n",
              "    .dataframe thead th {\n",
              "        text-align: right;\n",
              "    }\n",
              "</style>\n",
              "<table border=\"1\" class=\"dataframe\">\n",
              "  <thead>\n",
              "    <tr style=\"text-align: right;\">\n",
              "      <th></th>\n",
              "      <th>year</th>\n",
              "      <th>log GDP_o</th>\n",
              "      <th>log GDP_d</th>\n",
              "      <th>log Dist_coord</th>\n",
              "      <th>log FLOW</th>\n",
              "    </tr>\n",
              "  </thead>\n",
              "  <tbody>\n",
              "    <tr>\n",
              "      <th>0</th>\n",
              "      <td>1990</td>\n",
              "      <td>37.108755</td>\n",
              "      <td>29.110241</td>\n",
              "      <td>12.964419</td>\n",
              "      <td>27.417802</td>\n",
              "    </tr>\n",
              "    <tr>\n",
              "      <th>1</th>\n",
              "      <td>1991</td>\n",
              "      <td>37.108755</td>\n",
              "      <td>29.225325</td>\n",
              "      <td>12.964419</td>\n",
              "      <td>27.417802</td>\n",
              "    </tr>\n",
              "    <tr>\n",
              "      <th>2</th>\n",
              "      <td>1992</td>\n",
              "      <td>37.108755</td>\n",
              "      <td>29.360813</td>\n",
              "      <td>12.964419</td>\n",
              "      <td>27.417802</td>\n",
              "    </tr>\n",
              "    <tr>\n",
              "      <th>3</th>\n",
              "      <td>2010</td>\n",
              "      <td>37.108755</td>\n",
              "      <td>31.012164</td>\n",
              "      <td>12.964419</td>\n",
              "      <td>27.417802</td>\n",
              "    </tr>\n",
              "    <tr>\n",
              "      <th>4</th>\n",
              "      <td>2011</td>\n",
              "      <td>37.108755</td>\n",
              "      <td>30.994342</td>\n",
              "      <td>12.964419</td>\n",
              "      <td>27.417802</td>\n",
              "    </tr>\n",
              "    <tr>\n",
              "      <th>...</th>\n",
              "      <td>...</td>\n",
              "      <td>...</td>\n",
              "      <td>...</td>\n",
              "      <td>...</td>\n",
              "      <td>...</td>\n",
              "    </tr>\n",
              "    <tr>\n",
              "      <th>947105</th>\n",
              "      <td>2010</td>\n",
              "      <td>32.505648</td>\n",
              "      <td>33.610547</td>\n",
              "      <td>8.642244</td>\n",
              "      <td>25.472534</td>\n",
              "    </tr>\n",
              "    <tr>\n",
              "      <th>947106</th>\n",
              "      <td>2011</td>\n",
              "      <td>32.670976</td>\n",
              "      <td>33.769398</td>\n",
              "      <td>8.642244</td>\n",
              "      <td>25.717417</td>\n",
              "    </tr>\n",
              "    <tr>\n",
              "      <th>947107</th>\n",
              "      <td>2012</td>\n",
              "      <td>32.869158</td>\n",
              "      <td>33.910336</td>\n",
              "      <td>8.642244</td>\n",
              "      <td>25.809002</td>\n",
              "    </tr>\n",
              "    <tr>\n",
              "      <th>947108</th>\n",
              "      <td>2013</td>\n",
              "      <td>33.006575</td>\n",
              "      <td>34.062431</td>\n",
              "      <td>8.642244</td>\n",
              "      <td>26.214560</td>\n",
              "    </tr>\n",
              "    <tr>\n",
              "      <th>947109</th>\n",
              "      <td>2014</td>\n",
              "      <td>33.006360</td>\n",
              "      <td>33.940919</td>\n",
              "      <td>8.642244</td>\n",
              "      <td>25.895167</td>\n",
              "    </tr>\n",
              "  </tbody>\n",
              "</table>\n",
              "<p>947110 rows × 5 columns</p>\n",
              "</div>"
            ],
            "text/plain": [
              "        year  log GDP_o  log GDP_d  log Dist_coord   log FLOW\n",
              "0       1990  37.108755  29.110241       12.964419  27.417802\n",
              "1       1991  37.108755  29.225325       12.964419  27.417802\n",
              "2       1992  37.108755  29.360813       12.964419  27.417802\n",
              "3       2010  37.108755  31.012164       12.964419  27.417802\n",
              "4       2011  37.108755  30.994342       12.964419  27.417802\n",
              "...      ...        ...        ...             ...        ...\n",
              "947105  2010  32.505648  33.610547        8.642244  25.472534\n",
              "947106  2011  32.670976  33.769398        8.642244  25.717417\n",
              "947107  2012  32.869158  33.910336        8.642244  25.809002\n",
              "947108  2013  33.006575  34.062431        8.642244  26.214560\n",
              "947109  2014  33.006360  33.940919        8.642244  25.895167\n",
              "\n",
              "[947110 rows x 5 columns]"
            ]
          },
          "metadata": {
            "tags": []
          },
          "execution_count": 39
        }
      ]
    },
    {
      "cell_type": "code",
      "metadata": {
        "colab": {
          "base_uri": "https://localhost:8080/"
        },
        "id": "jY4NEkRI_BNi",
        "outputId": "5ad75c42-cf64-4361-ad4b-a4af866d61f6"
      },
      "source": [
        "data.columns"
      ],
      "execution_count": null,
      "outputs": [
        {
          "output_type": "execute_result",
          "data": {
            "text/plain": [
              "Index(['year', 'log GDP_o', 'log GDP_d', 'log Dist_coord', 'log FLOW'], dtype='object')"
            ]
          },
          "metadata": {
            "tags": []
          },
          "execution_count": 41
        }
      ]
    },
    {
      "cell_type": "code",
      "metadata": {
        "id": "XrGl0y6dqrYZ"
      },
      "source": [
        "dataset = data[['log FLOW']]\n",
        "train = train[['log FLOW']]\n",
        "valid = test[['log FLOW']]\n",
        "dataset = dataset.values\n",
        "train = train.values\n",
        "valid = valid.values"
      ],
      "execution_count": null,
      "outputs": []
    },
    {
      "cell_type": "code",
      "metadata": {
        "id": "CCXo-fPrq_eC"
      },
      "source": [
        "scaled_data = scaler.fit_transform(dataset)\n"
      ],
      "execution_count": null,
      "outputs": []
    },
    {
      "cell_type": "code",
      "metadata": {
        "id": "DKuX5qeNs6ym"
      },
      "source": [
        "past_values = 3\n",
        "x_train, y_train = [], []\n",
        "for i in range(past_values, len(train)):\n",
        "    x_train.append(scaled_data[i-past_values:i,0])\n",
        "    y_train.append(scaled_data[i,0])\n",
        "x_train, y_train = np.array(x_train), np.array(y_train)\n",
        "x_train = np.reshape(x_train, (x_train.shape[0], x_train.shape[1],1))\n"
      ],
      "execution_count": null,
      "outputs": []
    },
    {
      "cell_type": "code",
      "metadata": {
        "id": "6WQGA2cdtSan"
      },
      "source": [
        "# create and fit the LSTM network\n",
        "model = Sequential()\n",
        "model.add(LSTM(units=50, return_sequences=True, input_shape=(x_train.shape[1],1)))\n",
        "model.add(LSTM(units=50))\n",
        "model.add(Dense(1))"
      ],
      "execution_count": null,
      "outputs": []
    },
    {
      "cell_type": "code",
      "metadata": {
        "colab": {
          "base_uri": "https://localhost:8080/"
        },
        "id": "McH9OuIWtRGO",
        "outputId": "275576ce-08a8-4bb0-b8fd-cd5370622fe4"
      },
      "source": [
        "model.compile(loss='mean_squared_error', optimizer='adam')\n",
        "model.fit(x_train, y_train, epochs=4, batch_size=1024, verbose=2)"
      ],
      "execution_count": null,
      "outputs": [
        {
          "output_type": "stream",
          "text": [
            "Epoch 1/4\n",
            "740/740 - 3s - loss: 0.0403\n",
            "Epoch 2/4\n",
            "740/740 - 3s - loss: 0.0310\n",
            "Epoch 3/4\n",
            "740/740 - 3s - loss: 0.0309\n",
            "Epoch 4/4\n",
            "740/740 - 3s - loss: 0.0309\n"
          ],
          "name": "stdout"
        },
        {
          "output_type": "execute_result",
          "data": {
            "text/plain": [
              "<tensorflow.python.keras.callbacks.History at 0x7f090678bac8>"
            ]
          },
          "metadata": {
            "tags": []
          },
          "execution_count": 49
        }
      ]
    },
    {
      "cell_type": "code",
      "metadata": {
        "id": "E5TRzTQIrUjd"
      },
      "source": [
        "#predicting validation data values, using past_values from the train data\n",
        "inputs = dataset[len(dataset) - len(valid) - past_values:]\n",
        "inputs = inputs.reshape(-1,1)\n",
        "inputs  = scaler.transform(inputs)"
      ],
      "execution_count": null,
      "outputs": []
    },
    {
      "cell_type": "code",
      "metadata": {
        "id": "xWbzXMVs1FOn"
      },
      "source": [
        "X_test = []\n",
        "for i in range(past_values, inputs.shape[0]):\n",
        "    X_test.append(inputs[i-past_values:i,0])\n",
        "X_test = np.array(X_test)\n",
        "X_test = np.reshape(X_test, (X_test.shape[0],X_test.shape[1],1))"
      ],
      "execution_count": null,
      "outputs": []
    },
    {
      "cell_type": "code",
      "metadata": {
        "id": "sSV7t2511KCB"
      },
      "source": [
        "predicted_flow = model.predict(X_test)\n",
        "predicted_flow = scaler.inverse_transform(predicted_flow)\n"
      ],
      "execution_count": null,
      "outputs": []
    },
    {
      "cell_type": "code",
      "metadata": {
        "colab": {
          "base_uri": "https://localhost:8080/"
        },
        "id": "XEZWKmbp1SBz",
        "outputId": "dd63ef21-b96c-4b68-e076-68f79396ff18"
      },
      "source": [
        "rms=np.sqrt(np.mean(np.power((valid-predicted_flow),2)))\n",
        "print('RMSE value on validation set:')\n",
        "print(rms)"
      ],
      "execution_count": null,
      "outputs": [
        {
          "output_type": "stream",
          "text": [
            "RMSE value on validation set:\n",
            "9.750715283229358\n"
          ],
          "name": "stdout"
        }
      ]
    },
    {
      "cell_type": "code",
      "metadata": {
        "id": "uW2_tAQ9ALIq"
      },
      "source": [
        "from sklearn.model_selection import train_test_split\n",
        "\n",
        "train1, test1 = train_test_split(data, test_size=0.2, shuffle=False)"
      ],
      "execution_count": null,
      "outputs": []
    },
    {
      "cell_type": "code",
      "metadata": {
        "colab": {
          "base_uri": "https://localhost:8080/",
          "height": 530
        },
        "id": "CBlWj28t1dds",
        "outputId": "3a583aee-e4fb-47b9-9a70-09074d9d3a2e"
      },
      "source": [
        "#plot\n",
        "plt.figure(figsize=(8,8))\n",
        "plt.title('USD/INR exchange rate predictions using LSTM')\n",
        "plt.ylabel('log Flow')\n",
        "plt.xlabel('Time')\n",
        "\n",
        "train = train1[['log FLOW']]\n",
        "valid = test1[['log FLOW']]\n",
        "valid = valid.assign(Predictions = 0)\n",
        "valid = valid.assign(Predictions = predicted_flow)\n",
        "plt.plot(train['log FLOW'][7900:7999])\n"
      ],
      "execution_count": null,
      "outputs": [
        {
          "output_type": "execute_result",
          "data": {
            "text/plain": [
              "[<matplotlib.lines.Line2D at 0x7f090eb43ef0>]"
            ]
          },
          "metadata": {
            "tags": []
          },
          "execution_count": 69
        },
        {
          "output_type": "display_data",
          "data": {
            "image/png": "[encoded data removed]",
            "text/plain": [
              "<Figure size 576x576 with 1 Axes>"
            ]
          },
          "metadata": {
            "tags": []
          }
        }
      ]
    }
  ]
}